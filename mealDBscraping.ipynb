{
  "cells": [
    {
      "cell_type": "markdown",
      "source": [
        "# Scraping da https://www.alimentinutrizione.it/tabelle-nutrizionali/ricerca-per-categoria senza file excel"
      ],
      "metadata": {
        "id": "-f1avGJMTkTD"
      }
    },
    {
      "cell_type": "code",
      "source": [
        "import requests\n",
        "from bs4 import BeautifulSoup\n",
        "\n",
        "# URL della pagina iniziale delle categorie di alimenti\n",
        "base_url = \"https://www.alimentinutrizione.it/tabelle-nutrizionali/ricerca-per-categoria\"\n",
        "\n",
        "# Funzione per ottenere il contenuto HTML di una pagina\n",
        "def get_html(url):\n",
        "    response = requests.get(url)\n",
        "    if response.status_code == 200:\n",
        "        return response.text\n",
        "    else:\n",
        "        print(f\"Errore {response.status_code} nella richiesta a {url}\")\n",
        "        return None\n",
        "\n",
        "# Funzione per estrarre i link delle ricette\n",
        "def get_recipe_links(html):\n",
        "    soup = BeautifulSoup(html, 'html.parser')\n",
        "    recipe_links = []\n",
        "    for link in soup.find_all('a', href=True):\n",
        "        href = link.get('href')\n",
        "        if href.startswith('/tabelle-nutrizionali/'):\n",
        "            recipe_links.append(href)\n",
        "    return recipe_links[:3]  # Limita ai primi 3 risultati\n",
        "\n",
        "# Funzione per estrarre i dati nutrizionali di un alimento\n",
        "def extract_food_data(html):\n",
        "    soup = BeautifulSoup(html, 'html.parser')\n",
        "    food_data = []\n",
        "\n",
        "    # Modifica il selettore in base alla struttura della pagina\n",
        "    table = soup.find('table')\n",
        "    headers = []\n",
        "    if table:\n",
        "        headers = [header.text.strip() for header in table.find_all('th')]\n",
        "        rows = table.find_all('tr')\n",
        "        for row in rows[1:]:\n",
        "            cells = row.find_all('td')\n",
        "            food_data.append([cell.text.strip() for cell in cells])\n",
        "    else:\n",
        "        print(\"Nessuna tabella trovata.\")\n",
        "\n",
        "    return headers, food_data\n",
        "\n",
        "# Ottieni i link delle categorie di alimenti\n",
        "initial_html = get_html(base_url)\n",
        "category_links = get_recipe_links(initial_html)\n",
        "\n",
        "# Itera su ogni link di categoria per estrarre i dati nutrizionali degli alimenti\n",
        "for link in category_links:\n",
        "    category_url = f\"https://www.alimentinutrizione.it{link}\"\n",
        "    category_html = get_html(category_url)\n",
        "    if category_html:\n",
        "        category_headers, food_data = extract_food_data(category_html)\n",
        "\n",
        "        # Stampa headers e food_data per ciascuna categoria\n",
        "        print(f\"Headers per {link}: {category_headers}\")\n",
        "        print(f\"Dati per {link}: {food_data}\")"
      ],
      "metadata": {
        "id": "DgNfvf9AOr3n",
        "outputId": "0d074132-965b-4edb-ae76-332a71b20d58",
        "colab": {
          "base_uri": "https://localhost:8080/"
        }
      },
      "execution_count": 59,
      "outputs": [
        {
          "output_type": "stream",
          "name": "stdout",
          "text": [
            "Headers per /tabelle-nutrizionali/120010: ['Acciuga o alice']\n",
            "Dati per /tabelle-nutrizionali/120010: [['Categoria', 'Prodotti della pesca'], ['Codice Alimento', '120010'], ['Nome Scientifico', 'Engraulis enchrasicholus'], ['English Name', 'Anchovy, fresh, raw'], ['Parte Edibile', '75 %'], ['Porzione', '150 g']]\n",
            "Headers per /tabelle-nutrizionali/120020: [\"Acciuga o alice, sott'olio\"]\n",
            "Dati per /tabelle-nutrizionali/120020: [['Categoria', 'Prodotti della pesca'], ['Codice Alimento', '120020'], ['Nome Scientifico', 'Engraulis enchrasicholus'], ['English Name', 'Anchovy, in oil'], ['Parte Edibile', '100 %'], ['Porzione', '50 g']]\n",
            "Headers per /tabelle-nutrizionali/120030: ['Acciuga o alice, sotto sale']\n",
            "Dati per /tabelle-nutrizionali/120030: [['Categoria', 'Prodotti della pesca'], ['Codice Alimento', '120030'], ['Nome Scientifico', 'Engraulis enchrasicholus'], ['English Name', 'Anchovy, salted'], ['Parte Edibile', '50 %'], ['Porzione', '50 g']]\n",
            "Headers per /tabelle-nutrizionali/005000: ['Aglio']\n",
            "Dati per /tabelle-nutrizionali/005000: [['Categoria', 'Verdure e ortaggi'], ['Codice Alimento', '005000'], ['Nome Scientifico', 'Allium sativum'], ['English Name', 'Garlic, fresh, raw'], ['Parte Edibile', '75 %'], ['Porzione', '5 g']]\n",
            "Headers per /tabelle-nutrizionali/005004: ['Aglio Bianco Piacentino']\n",
            "Dati per /tabelle-nutrizionali/005004: [['Categoria', 'Verdure e ortaggi'], ['Codice Alimento', '005004'], ['Nome Scientifico', 'Allium sativum L.'], ['English Name', 'White Piacentino garlic, fresh, raw'], ['Informazioni', 'Prodotto inscritto nel registro dei P.A.T.'], ['Numero Campioni', '8'], ['Parte Edibile', '94 %'], ['Porzione', '3 g']]\n",
            "Headers per /tabelle-nutrizionali/005001: ['Aglio Rosso di Castelliri']\n",
            "Dati per /tabelle-nutrizionali/005001: [['Categoria', 'Verdure e ortaggi'], ['Codice Alimento', '005001'], ['Nome Scientifico', 'Allium sativum L.'], ['English Name', 'Red Castelliri garlic, fresh, raw'], ['Informazioni', 'Prodotto inscritto nel registro dei P.A.T.'], ['Numero Campioni', '8'], ['Parte Edibile', '95 %'], ['Porzione', '5 g']]\n",
            "Headers per /tabelle-nutrizionali/005002: ['Aglio Rosso di Procerno']\n",
            "Dati per /tabelle-nutrizionali/005002: [['Categoria', 'Verdure e ortaggi'], ['Codice Alimento', '005002'], ['Nome Scientifico', 'Allium sativum L.'], ['English Name', 'Red Procerno garlic, fresh, raw'], ['Informazioni', 'Prodotto inscritto nel registro dei P.A.T.'], ['Numero Campioni', '8'], ['Parte Edibile', '94 %'], ['Porzione', '4 g']]\n",
            "Headers per /tabelle-nutrizionali/005003: ['Aglio Rosso di Sulmona']\n",
            "Dati per /tabelle-nutrizionali/005003: [['Categoria', 'Verdure e ortaggi'], ['Codice Alimento', '005003'], ['Nome Scientifico', 'Allium sativum L.'], ['English Name', 'Red Sulmona garlic, fresh, raw'], ['Informazioni', 'Prodotto inscritto nel registro dei P.A.T.'], ['Numero Campioni', '8'], ['Parte Edibile', '96 %'], ['Porzione', '3 g']]\n",
            "Headers per /tabelle-nutrizionali/104033: ['Agnello, coscio, cotto, al forno']\n",
            "Dati per /tabelle-nutrizionali/104033: [['Categoria', 'Carni fresche'], ['Codice Alimento', '104033'], ['Nome Scientifico', 'Ovis agnus'], ['English Name', 'Lamb, leg, lean only, baked in oven, no salt, no fat added'], ['Informazioni', 'Tessuto muscolare privato del grasso visibile. Cottura in forno senza aggiunta di grassi e di sale'], ['Parte Edibile', '100 %'], ['Porzione', '75 g']]\n",
            "Headers per /tabelle-nutrizionali/104030: ['Agnello, coscio, crudo']\n",
            "Dati per /tabelle-nutrizionali/104030: [['Categoria', 'Carni fresche'], ['Codice Alimento', '104030'], ['Nome Scientifico', 'Ovis agnus'], ['English Name', 'Lamb, leg, lean only, raw'], ['Informazioni', 'Tessuto muscolare privato del grasso visibile'], ['Parte Edibile', '100 %'], ['Porzione', '100 g']]\n"
          ]
        }
      ]
    },
    {
      "cell_type": "markdown",
      "source": [
        "# Scraping da https://www.alimentinutrizione.it/tabelle-nutrizionali/ricerca-per-categoria con file excel, ma senza proteine ..."
      ],
      "metadata": {
        "id": "vUiwcIlHTz9h"
      }
    },
    {
      "cell_type": "code",
      "source": [
        "import requests\n",
        "from bs4 import BeautifulSoup\n",
        "import openpyxl\n",
        "\n",
        "# URL della pagina iniziale delle categorie di alimenti\n",
        "base_url = \"https://www.alimentinutrizione.it/tabelle-nutrizionali/ricerca-per-ordine-alfabetico\"\n",
        "\n",
        "# Funzione per ottenere il contenuto HTML di una pagina\n",
        "def get_html(url):\n",
        "    response = requests.get(url)\n",
        "    if response.status_code == 200:\n",
        "        return response.text\n",
        "    else:\n",
        "        print(f\"Errore {response.status_code} nella richiesta a {url}\")\n",
        "        return None\n",
        "\n",
        "# Funzione per estrarre i link delle ricette\n",
        "def get_recipe_links(html):\n",
        "    soup = BeautifulSoup(html, 'html.parser')\n",
        "    recipe_links = []\n",
        "    for link in soup.find_all('a', href=True):\n",
        "        href = link.get('href')\n",
        "        if href.startswith('/tabelle-nutrizionali/'):\n",
        "            recipe_links.append(href)\n",
        "    return recipe_links[:3]  # Limita ai primi 3 risultati\n",
        "\n",
        "# Funzione per estrarre i dati nutrizionali di un alimento\n",
        "def extract_food_data(html):\n",
        "    soup = BeautifulSoup(html, 'html.parser')\n",
        "    food_data = []\n",
        "\n",
        "    # Modifica il selettore in base alla struttura della pagina\n",
        "    table = soup.find('table')\n",
        "    headers = []\n",
        "    if table:\n",
        "        headers = [header.text.strip() for header in table.find_all('th')]\n",
        "        rows = table.find_all('tr')\n",
        "        for row in rows[1:]:\n",
        "            cells = row.find_all('td')\n",
        "            food_data.append([cell.text.strip() for cell in cells])\n",
        "    else:\n",
        "        print(\"Nessuna tabella trovata.\")\n",
        "\n",
        "    return headers, food_data\n",
        "\n",
        "# Crea un nuovo workbook Excel\n",
        "workbook = openpyxl.Workbook()\n",
        "sheet = workbook.active\n",
        "sheet.title = \"Dati Nutrizionali\"\n",
        "\n",
        "# Intestazioni del foglio Excel\n",
        "sheet.append([\"Link\", \"Nome Alimento\", \"Categoria\", \"Codice Alimento\", \"Nome Scientifico\", \"English Name\", \"Parte Edibile\", \"Porzione\"])\n",
        "\n",
        "# Ottieni i link delle categorie di alimenti\n",
        "initial_html = get_html(base_url)\n",
        "category_links = get_recipe_links(initial_html)\n",
        "\n",
        "# Itera su ogni link di categoria per estrarre i dati nutrizionali degli alimenti\n",
        "for link in category_links:\n",
        "    category_url = f\"https://www.alimentinutrizione.it{link}\"\n",
        "    category_html = get_html(category_url)\n",
        "    if category_html:\n",
        "        category_headers, food_data = extract_food_data(category_html)\n",
        "\n",
        "        # Stampa headers e food_data per ciascuna categoria\n",
        "        print(f\"Headers per {link}: {category_headers}\")\n",
        "        print(f\"Dati per {link}: {food_data}\")\n",
        "\n",
        "        # Aggiungi i dati al foglio Excel\n",
        "        if food_data:\n",
        "            row_data = [link, category_headers[0]]  # Link e Nome Alimento\n",
        "            row_data.extend([item[1] for item in food_data])  # Aggiungi gli altri dati\n",
        "            sheet.append(row_data)\n",
        "\n",
        "# Salva il workbook Excel\n",
        "workbook.save(\"dati_nutrizionali.xlsx\")\n",
        "print(\"Dati salvati in 'dati_nutrizionali.xlsx'\")"
      ],
      "metadata": {
        "id": "iItOxVPIcYau",
        "outputId": "6183e08c-4083-4031-9634-9eb48e072598",
        "colab": {
          "base_uri": "https://localhost:8080/"
        }
      },
      "execution_count": 69,
      "outputs": [
        {
          "output_type": "stream",
          "name": "stdout",
          "text": [
            "Headers per /tabelle-nutrizionali/120010: ['Acciuga o alice']\n",
            "Dati per /tabelle-nutrizionali/120010: [['Categoria', 'Prodotti della pesca'], ['Codice Alimento', '120010'], ['Nome Scientifico', 'Engraulis enchrasicholus'], ['English Name', 'Anchovy, fresh, raw'], ['Parte Edibile', '75 %'], ['Porzione', '150 g']]\n",
            "Headers per /tabelle-nutrizionali/120020: [\"Acciuga o alice, sott'olio\"]\n",
            "Dati per /tabelle-nutrizionali/120020: [['Categoria', 'Prodotti della pesca'], ['Codice Alimento', '120020'], ['Nome Scientifico', 'Engraulis enchrasicholus'], ['English Name', 'Anchovy, in oil'], ['Parte Edibile', '100 %'], ['Porzione', '50 g']]\n",
            "Headers per /tabelle-nutrizionali/120030: ['Acciuga o alice, sotto sale']\n",
            "Dati per /tabelle-nutrizionali/120030: [['Categoria', 'Prodotti della pesca'], ['Codice Alimento', '120030'], ['Nome Scientifico', 'Engraulis enchrasicholus'], ['English Name', 'Anchovy, salted'], ['Parte Edibile', '50 %'], ['Porzione', '50 g']]\n",
            "Dati salvati in 'dati_nutrizionali.xlsx'\n"
          ]
        }
      ]
    },
    {
      "cell_type": "markdown",
      "source": [
        "# IMPLEMENTAZIONI VARIE"
      ],
      "metadata": {
        "id": "311JoC5ctzo0"
      }
    }
  ],
  "metadata": {
    "colab": {
      "name": "Un benvenuto a Colaboratory",
      "provenance": []
    },
    "kernelspec": {
      "display_name": "Python 3",
      "name": "python3"
    }
  },
  "nbformat": 4,
  "nbformat_minor": 0
}